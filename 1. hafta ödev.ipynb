{
  "cells": [
    {
      "cell_type": "code",
      "execution_count": 2,
      "id": "286b8159-60b7-46ab-ab64-23fb52892b9a",
      "metadata": {
        "trusted": true
      },
      "outputs": [],
      "source": [
        "x=8\n",
        "y=3.2\n",
        "z=8j + 18\n",
        "a=\"Hello World\"\n",
        "b= True\n",
        "c=23 < 22\n",
        "l= [1,2,3,4]\n",
        "d= {\"Name\": \"Jake\",\n",
        "    \"Age\" : \"27\",\n",
        "    \"Adress\" : \"Downtown\"}\n",
        "t= (\"Machine Learning\", \"Data Science\")\n",
        "s= {\"Pyton\", \"Machine Learning\", \"Data Science\"}"
      ]
    },
    {
      "cell_type": "code",
      "execution_count": 3,
      "id": "62364288-3ce7-4938-bea5-98381a108817",
      "metadata": {
        "trusted": true
      },
      "outputs": [
        {
          "data": {
            "text/plain": [
              "int"
            ]
          },
          "execution_count": 3,
          "metadata": {},
          "output_type": "execute_result"
        }
      ],
      "source": [
        "type (x)"
      ]
    },
    {
      "cell_type": "code",
      "execution_count": 4,
      "id": "32f83581-4f26-4e4d-a3b1-01b75b22c556",
      "metadata": {
        "trusted": true
      },
      "outputs": [
        {
          "ename": "<class 'TypeError'>",
          "evalue": "type() takes 1 or 3 arguments",
          "output_type": "error",
          "traceback": [
            "\u001b[0;31m---------------------------------------------------------------------------\u001b[0m",
            "\u001b[0;31mTypeError\u001b[0m                                 Traceback (most recent call last)",
            "Cell \u001b[0;32mIn[4], line 1\u001b[0m\n\u001b[0;32m----> 1\u001b[0m \u001b[38;5;28;43mtype\u001b[39;49m\u001b[43m \u001b[49m\u001b[43m(\u001b[49m\u001b[43mx\u001b[49m\u001b[43m,\u001b[49m\u001b[43my\u001b[49m\u001b[43m,\u001b[49m\u001b[43mz\u001b[49m\u001b[43m,\u001b[49m\u001b[43ma\u001b[49m\u001b[43m,\u001b[49m\u001b[43mb\u001b[49m\u001b[43m,\u001b[49m\u001b[43mc\u001b[49m\u001b[43m,\u001b[49m\u001b[43ml\u001b[49m\u001b[43m,\u001b[49m\u001b[43md\u001b[49m\u001b[43m,\u001b[49m\u001b[43mt\u001b[49m\u001b[43m,\u001b[49m\u001b[43ms\u001b[49m\u001b[43m)\u001b[49m\n",
            "\u001b[0;31mTypeError\u001b[0m: type() takes 1 or 3 arguments"
          ]
        }
      ],
      "source": [
        "type (x,y,z,a,b,c,l,d,t,s)\n"
      ]
    },
    {
      "cell_type": "code",
      "execution_count": 5,
      "id": "26fa9e03-2ccf-4b60-b55b-47688ffa8932",
      "metadata": {
        "trusted": true
      },
      "outputs": [
        {
          "ename": "<class 'TypeError'>",
          "evalue": "type.__new__() argument 1 must be str, not int",
          "output_type": "error",
          "traceback": [
            "\u001b[0;31m---------------------------------------------------------------------------\u001b[0m",
            "\u001b[0;31mTypeError\u001b[0m                                 Traceback (most recent call last)",
            "Cell \u001b[0;32mIn[5], line 1\u001b[0m\n\u001b[0;32m----> 1\u001b[0m \u001b[38;5;28;43mtype\u001b[39;49m\u001b[43m(\u001b[49m\u001b[43mx\u001b[49m\u001b[43m,\u001b[49m\u001b[43my\u001b[49m\u001b[43m,\u001b[49m\u001b[43mz\u001b[49m\u001b[43m)\u001b[49m\n",
            "\u001b[0;31mTypeError\u001b[0m: type.__new__() argument 1 must be str, not int"
          ]
        }
      ],
      "source": [
        "type(x,y,z)"
      ]
    },
    {
      "cell_type": "code",
      "execution_count": 6,
      "id": "9549150b-5200-4df7-9ea3-5013ebd28022",
      "metadata": {
        "trusted": true
      },
      "outputs": [
        {
          "data": {
            "text/plain": [
              "complex"
            ]
          },
          "execution_count": 6,
          "metadata": {},
          "output_type": "execute_result"
        }
      ],
      "source": [
        "type(z)"
      ]
    },
    {
      "cell_type": "code",
      "execution_count": 7,
      "id": "ec9baad9-4807-46cb-909e-395cc2ec3f6b",
      "metadata": {
        "trusted": true
      },
      "outputs": [
        {
          "data": {
            "text/plain": [
              "complex"
            ]
          },
          "execution_count": 7,
          "metadata": {},
          "output_type": "execute_result"
        }
      ],
      "source": [
        "type(z)"
      ]
    },
    {
      "cell_type": "code",
      "execution_count": 8,
      "id": "7c631967-5ba0-4f7a-a5f9-3c4cb1651858",
      "metadata": {
        "trusted": true
      },
      "outputs": [
        {
          "data": {
            "text/plain": [
              "float"
            ]
          },
          "execution_count": 8,
          "metadata": {},
          "output_type": "execute_result"
        }
      ],
      "source": [
        "type(y)"
      ]
    },
    {
      "cell_type": "code",
      "execution_count": 9,
      "id": "56972797-30c7-4cc5-bca0-cf0c6268ce46",
      "metadata": {
        "trusted": true
      },
      "outputs": [
        {
          "data": {
            "text/plain": [
              "str"
            ]
          },
          "execution_count": 9,
          "metadata": {},
          "output_type": "execute_result"
        }
      ],
      "source": [
        "type(a)"
      ]
    },
    {
      "cell_type": "code",
      "execution_count": 10,
      "id": "b36eb4f6-5926-4d9a-9fa2-ef4eca1e057b",
      "metadata": {
        "trusted": true
      },
      "outputs": [
        {
          "data": {
            "text/plain": [
              "bool"
            ]
          },
          "execution_count": 10,
          "metadata": {},
          "output_type": "execute_result"
        }
      ],
      "source": [
        "type(b)"
      ]
    },
    {
      "cell_type": "code",
      "execution_count": 11,
      "id": "1de9c1e9-895e-405b-bcf2-779ae38177d0",
      "metadata": {
        "trusted": true
      },
      "outputs": [
        {
          "data": {
            "text/plain": [
              "list"
            ]
          },
          "execution_count": 11,
          "metadata": {},
          "output_type": "execute_result"
        }
      ],
      "source": [
        "type(l)"
      ]
    },
    {
      "cell_type": "code",
      "execution_count": 12,
      "id": "ab6e0130-9829-4a2e-9d0f-17959e94959c",
      "metadata": {
        "trusted": true
      },
      "outputs": [
        {
          "data": {
            "text/plain": [
              "dict"
            ]
          },
          "execution_count": 12,
          "metadata": {},
          "output_type": "execute_result"
        }
      ],
      "source": [
        "type(d)\n"
      ]
    },
    {
      "cell_type": "code",
      "execution_count": 13,
      "id": "2f3e0302-c56a-499e-a5d6-322c1a5729de",
      "metadata": {
        "trusted": true
      },
      "outputs": [
        {
          "data": {
            "text/plain": [
              "tuple"
            ]
          },
          "execution_count": 13,
          "metadata": {},
          "output_type": "execute_result"
        }
      ],
      "source": [
        "type(t)"
      ]
    },
    {
      "cell_type": "code",
      "execution_count": 14,
      "id": "074558cf-3dc2-486d-a17f-df755de41c20",
      "metadata": {
        "trusted": true
      },
      "outputs": [
        {
          "data": {
            "text/plain": [
              "set"
            ]
          },
          "execution_count": 14,
          "metadata": {},
          "output_type": "execute_result"
        }
      ],
      "source": [
        "type(s)"
      ]
    },
    {
      "cell_type": "code",
      "execution_count": 15,
      "id": "553fee0c-7ecb-495a-8ed4-333622a143d4",
      "metadata": {
        "trusted": true
      },
      "outputs": [
        {
          "data": {
            "text/plain": [
              "'THE GOAL IS TO TURN DATA INTO IFORMATION, AND INFORMATION INTO INSIGHT'"
            ]
          },
          "execution_count": 15,
          "metadata": {},
          "output_type": "execute_result"
        }
      ],
      "source": [
        "text= \"The goal is to turn data into iformation, and information into insight\"\n",
        "\"The goal is to turn data into iformation, and information into insight\".upper ()"
      ]
    },
    {
      "cell_type": "code",
      "execution_count": 16,
      "id": "62c08fc1-5f6e-4ccc-b422-98cdf1acde1e",
      "metadata": {
        "trusted": true
      },
      "outputs": [
        {
          "data": {
            "text/plain": [
              "['THE',\n",
              " 'GOAL',\n",
              " 'IS',\n",
              " 'TO',\n",
              " 'TURN',\n",
              " 'DATA',\n",
              " 'INTO',\n",
              " 'IFORMATION,',\n",
              " 'AND',\n",
              " 'INFORMATION',\n",
              " 'INTO',\n",
              " 'INSIGHT']"
            ]
          },
          "execution_count": 16,
          "metadata": {},
          "output_type": "execute_result"
        }
      ],
      "source": [
        "\"THE GOAL IS TO TURN DATA INTO IFORMATION, AND INFORMATION INTO INSIGHT\".split()"
      ]
    },
    {
      "cell_type": "code",
      "execution_count": 20,
      "id": "6ea7f25f-6459-4bb2-b61f-59694422791c",
      "metadata": {
        "trusted": true
      },
      "outputs": [
        {
          "name": "stdout",
          "output_type": "stream",
          "text": [
            "Listenin eleman sayısı: 11\n"
          ]
        }
      ],
      "source": [
        "lst= [\"D\",\"A\",\"T\",\"A\",\"S\",\"C\",\"I\",\"E\",\"N\",\"C\",\"E\"]\n",
        "eleman_sayisi= len(lst)\n",
        "print (f\"Listenin eleman sayısı: {eleman_sayisi}\")"
      ]
    },
    {
      "cell_type": "code",
      "execution_count": 21,
      "id": "4045a5de-2e23-46ae-b7b7-e2a4031d677b",
      "metadata": {
        "trusted": true
      },
      "outputs": [
        {
          "name": "stdout",
          "output_type": "stream",
          "text": [
            "Listenin eleman sayisi: 11\n"
          ]
        }
      ],
      "source": [
        "print (\"Listenin eleman sayisi: {}\".format(eleman_sayisi))"
      ]
    },
    {
      "cell_type": "code",
      "execution_count": 25,
      "id": "0be42f58-42b7-4f3a-892a-d9f81c4c1bfc",
      "metadata": {
        "trusted": true
      },
      "outputs": [
        {
          "name": "stdout",
          "output_type": "stream",
          "text": [
            "sıfırıncı eleman: D\n",
            "onuncu eleman: E\n"
          ]
        }
      ],
      "source": [
        "sifirinci_eleman= lst[0]\n",
        "onuncu_eleman= lst[10]\n",
        "print(\"sıfırıncı eleman:\", sifirinci_eleman)\n",
        "print(\"onuncu eleman:\", onuncu_eleman)"
      ]
    },
    {
      "cell_type": "code",
      "execution_count": 26,
      "id": "1ad86ee7-88dc-464a-bcb3-db4493d97d2d",
      "metadata": {
        "trusted": true
      },
      "outputs": [
        {
          "name": "stdout",
          "output_type": "stream",
          "text": [
            "alt liste: ['D', 'A', 'T', 'A']\n"
          ]
        }
      ],
      "source": [
        "alt_liste= lst[0:4]\n",
        "print(\"alt liste:\", alt_liste)"
      ]
    },
    {
      "cell_type": "code",
      "execution_count": 27,
      "id": "bb986eaf-6a59-4d36-b8cd-c7dab3653740",
      "metadata": {
        "trusted": true
      },
      "outputs": [
        {
          "name": "stdout",
          "output_type": "stream",
          "text": [
            "güncellenmiş liste: ['D', 'A', 'T', 'A', 'S', 'C', 'I', 'E', 'C', 'E']\n"
          ]
        }
      ],
      "source": [
        "del lst[8]\n",
        "print(\"güncellenmiş liste:\",lst)"
      ]
    },
    {
      "cell_type": "code",
      "execution_count": 28,
      "id": "8e8330cd-8c9a-40ea-bad3-782cd83c6171",
      "metadata": {
        "trusted": true
      },
      "outputs": [
        {
          "name": "stdout",
          "output_type": "stream",
          "text": [
            "sekizinci eleman: C\n"
          ]
        }
      ],
      "source": [
        "sekizinci_eleman=lst[8]\n",
        "print(\"sekizinci eleman:\", sekizinci_eleman)"
      ]
    },
    {
      "cell_type": "code",
      "execution_count": 29,
      "id": "11c60798-0b29-47b1-85ba-9d577cc6d1b5",
      "metadata": {
        "trusted": true
      },
      "outputs": [
        {
          "name": "stdout",
          "output_type": "stream",
          "text": [
            "güncellenmiş liste: ['D', 'A', 'T', 'A', 'S', 'C', 'I', 'E', 'C', 'E', 'x']\n"
          ]
        }
      ],
      "source": [
        "lst.append(\"x\")\n",
        "print(\"güncellenmiş liste:\", lst)"
      ]
    },
    {
      "cell_type": "code",
      "execution_count": 30,
      "id": "3da56df2-805d-495b-94a2-4c9a751f99a2",
      "metadata": {
        "trusted": true
      },
      "outputs": [
        {
          "name": "stdout",
          "output_type": "stream",
          "text": [
            "güncellenen liste: ['D', 'A', 'T', 'A', 'S', 'C', 'I', 'E', 'N', 'C', 'E', 'x']\n"
          ]
        }
      ],
      "source": [
        "lst.insert(8,\"N\")\n",
        "print(\"güncellenen liste:\", lst)"
      ]
    },
    {
      "cell_type": "code",
      "execution_count": 31,
      "id": "2958d6e2-a8c4-4778-bdb1-b4c28bd5711c",
      "metadata": {
        "trusted": true
      },
      "outputs": [],
      "source": [
        "dict= {\"Christian\": [\"America\",18],\n",
        "      \"Daisy\": [\"England\", 22],\n",
        "      \"Antonio\":[\"Spain\",22],\n",
        "      \"Dante\": [\"Italy\",25]}"
      ]
    },
    {
      "cell_type": "code",
      "execution_count": 32,
      "id": "ce6cc047-e663-4570-b110-f69276318fb2",
      "metadata": {
        "trusted": true
      },
      "outputs": [
        {
          "name": "stdout",
          "output_type": "stream",
          "text": [
            "Key Değerleri: ['Christian', 'Daisy', 'Antonio', 'Dante']\n"
          ]
        }
      ],
      "source": [
        "my_dict = {\"Christian\": [\"America\",18],\n",
        "      \"Daisy\": [\"England\", 22],\n",
        "      \"Antonio\":[\"Spain\",22],\n",
        "      \"Dante\": [\"Italy\",25]}\n",
        "keys= my_dict.keys()\n",
        "print(\"Key Değerleri:\", list(keys))"
      ]
    },
    {
      "cell_type": "code",
      "execution_count": 33,
      "id": "bb6c18ed-134d-4b4f-9888-982a3550bcfb",
      "metadata": {
        "trusted": true
      },
      "outputs": [
        {
          "name": "stdout",
          "output_type": "stream",
          "text": [
            "Values Değerleri: [['America', 18], ['England', 22], ['Spain', 22], ['Italy', 25]]\n"
          ]
        }
      ],
      "source": [
        "values= my_dict.values()\n",
        "print(\"Values Değerleri:\", list(values))"
      ]
    },
    {
      "cell_type": "code",
      "execution_count": 34,
      "id": "5a84592c-7259-4243-888c-71c403e97e23",
      "metadata": {
        "trusted": true
      },
      "outputs": [
        {
          "name": "stdout",
          "output_type": "stream",
          "text": [
            "Daisy Değerleri: ['England', 22]\n"
          ]
        }
      ],
      "source": [
        "daisy_values= my_dict[\"Daisy\"]\n",
        "print(\"Daisy Değerleri:\", daisy_values)"
      ]
    },
    {
      "cell_type": "code",
      "execution_count": 36,
      "id": "28defd96-9bb3-4394-8226-57273fe8b2e8",
      "metadata": {
        "trusted": true
      },
      "outputs": [
        {
          "name": "stdout",
          "output_type": "stream",
          "text": [
            "Güncellenmiş Liste: {'Christian': ['America', 18], 'Daisy': ['England', 22], 'Antonio': ['Spain', 22], 'Dante': ['Italy', 25], 'Ahmet': ['Turkey', 24]}\n"
          ]
        }
      ],
      "source": [
        "my_dict[\"Ahmet\"] = [\"Turkey\", 24]\n",
        "print (\"Güncellenmiş Liste:\", my_dict)"
      ]
    },
    {
      "cell_type": "code",
      "execution_count": 43,
      "id": "d3d1c0a5-9345-4d5f-88c7-d6cc2aaabef8",
      "metadata": {
        "trusted": true
      },
      "outputs": [
        {
          "name": "stdout",
          "output_type": "stream",
          "text": [
            "Güncel Liste:\n"
          ]
        },
        {
          "data": {
            "text/plain": [
              "(None,\n",
              " {'Christian': ['America', 18],\n",
              "  'Daisy': ['England', 22],\n",
              "  'Dante': ['Italy', 25],\n",
              "  'Ahmet': ['Turkey', 24]})"
            ]
          },
          "execution_count": 43,
          "metadata": {},
          "output_type": "execute_result"
        }
      ],
      "source": [
        "my_dict = {\n",
        "    \"Christian\": [\"America\", 18],\n",
        "    \"Daisy\": [\"England\", 22],\n",
        "    \"Antonio\": [\"Spain\", 22],\n",
        "    \"Dante\": [\"Italy\", 25],\n",
        "    \"Ahmet\": [\"Turkey\", 24] \n",
        "} \n",
        "del my_dict [\"Antonio\"]\n",
        "print(\"Güncel Liste:\"), my_dict"
      ]
    },
    {
      "cell_type": "code",
      "execution_count": 66,
      "id": "1799e021-dc71-4208-a54e-f46cbe3bdb0b",
      "metadata": {
        "trusted": true
      },
      "outputs": [
        {
          "name": "stdout",
          "output_type": "stream",
          "text": [
            "Çift sayılar: [2, 18, 22]\n",
            "Tek sayılar: [13, 93]\n"
          ]
        }
      ],
      "source": [
        "def ayir_tek_cift(sayi_listesi):\n",
        "    \n",
        "    cift_sayilar = []\n",
        "    tek_sayilar = []\n",
        "\n",
        "   \n",
        "    for sayi in sayi_listesi:\n",
        "        if sayi % 2 == 0:\n",
        "            \n",
        "            cift_sayilar.append(sayi)\n",
        "        else:\n",
        "        \n",
        "            tek_sayilar.append(sayi)\n",
        "    \n",
        "    return cift_sayilar, tek_sayilar\n",
        "\n",
        "l = [2, 13, 18, 93, 22]\n",
        "\n",
        "cift_sayilar, tek_sayilar = ayir_tek_cift(l)\n",
        "\n",
        "print(\"Çift sayılar:\", cift_sayilar)\n",
        "print(\"Tek sayılar:\", tek_sayilar)"
      ]
    },
    {
      "cell_type": "code",
      "execution_count": 68,
      "id": "04a26118-6b7b-43d4-933f-b33cc7ba1559",
      "metadata": {
        "trusted": true
      },
      "outputs": [
        {
          "name": "stdout",
          "output_type": "stream",
          "text": [
            "Mühendislik Fakültesi Ögrecileri:\n",
            "1.Ali\n",
            "2.Veli\n",
            "3.Ayşe\n",
            "\n",
            "Tıp Fakültesi Ögrencileri:\n",
            "1.Talat\n",
            "2.Zeynep\n",
            "3.Ece\n"
          ]
        }
      ],
      "source": [
        "ogrenciler= [\"Ali\",\"Veli\",\"Ayşe\",\"Talat\",\"Zeynep\",\"Ece\"]\n",
        "print(\"Mühendislik Fakültesi Ögrecileri:\")\n",
        "for index, isim in enumerate(ogrenciler[:3], start=1):\n",
        "    print(f\"{index}.{isim}\")\n",
        "print(\"\\nTıp Fakültesi Ögrencileri:\")\n",
        "for index,isim in enumerate(ogrenciler[3:], start=1):\n",
        "    print(f\"{index}.{isim}\")"
      ]
    },
    {
      "cell_type": "code",
      "execution_count": 70,
      "id": "97c4d539-164c-4637-a3e4-c799e79b6002",
      "metadata": {
        "trusted": true
      },
      "outputs": [
        {
          "name": "stdout",
          "output_type": "stream",
          "text": [
            "Ders Bilgileri:\n",
            "Ders Kodu:CMO1005, Kredi:3, Kontenjan:30\n",
            "Ders Kodu:PSY1001, Kredi:4, Kontenjan:75\n",
            "Ders Kodu:HUK1005, Kredi:2, Kontenjan:150\n",
            "Ders Kodu:SEN2204, Kredi:4, Kontenjan:25\n"
          ]
        }
      ],
      "source": [
        "ders_kodu=[\"CMO1005\",\"PSY1001\",\"HUK1005\",\"SEN2204\"]\n",
        "kredi= [3,4,2,4]\n",
        "kontenjan=[30,75,150,25]\n",
        "ders_bilgileri= zip(ders_kodu, kredi,kontenjan)\n",
        "print(\"Ders Bilgileri:\")\n",
        "for ders, kredi, kontenjan in ders_bilgileri:\n",
        "    print(f\"Ders Kodu:{ders}, Kredi:{kredi}, Kontenjan:{kontenjan}\")"
      ]
    },
    {
      "cell_type": "code",
      "execution_count": 72,
      "id": "630988be-bf3a-4dcd-9880-e8e3c26eb8d7",
      "metadata": {
        "trusted": true
      },
      "outputs": [
        {
          "name": "stdout",
          "output_type": "stream",
          "text": [
            "Kume2'nin Küme1'den Frakı: {'miuul', 'lambda', 'qcut', 'function'}\n"
          ]
        }
      ],
      "source": [
        "kume1= set([\"data\",\"pyton\"])\n",
        "kume2= set([\"data\",\"function\",\"qcut\",\"lambda\",\"pyton\",\"miuul\"])\n",
        "def kontrol_et_ve_yazdir(kume1, kume2):\n",
        "    if kume1.issuperset(kume2):\n",
        "        ortak_elemanlar= kume1.intersection(kume2)\n",
        "        print(\"Ortak Elemanlar:\", ortak_elemanlar)\n",
        "    else:\n",
        "        fark= kume2.difference(kume1)\n",
        "        print(\"Kume2'nin Küme1'den Frakı:\",fark)\n",
        "kontrol_et_ve_yazdir(kume1, kume2)"
      ]
    },
    {
      "cell_type": "code",
      "execution_count": 75,
      "id": "dcfa5f1f-ffa3-4a63-ac68-53c9484116da",
      "metadata": {
        "trusted": true
      },
      "outputs": [
        {
          "ename": "<class 'ModuleNotFoundError'>",
          "evalue": "No module named 'seaborn'",
          "output_type": "error",
          "traceback": [
            "\u001b[0;31m---------------------------------------------------------------------------\u001b[0m",
            "\u001b[0;31mModuleNotFoundError\u001b[0m                       Traceback (most recent call last)",
            "Cell \u001b[0;32mIn[66], line 1\u001b[0m\n\u001b[0;32m----> 1\u001b[0m \u001b[38;5;28;01mimport\u001b[39;00m \u001b[38;5;21;01mseaborn\u001b[39;00m \u001b[38;5;28;01mas\u001b[39;00m \u001b[38;5;21;01msns\u001b[39;00m\n\u001b[1;32m      2\u001b[0m df\u001b[38;5;241m=\u001b[39m sns\u001b[38;5;241m.\u001b[39mload_dataset(\u001b[38;5;124m\"\u001b[39m\u001b[38;5;124mcar_crashes\u001b[39m\u001b[38;5;124m\"\u001b[39m)\n\u001b[1;32m      3\u001b[0m modified_vars\u001b[38;5;241m=\u001b[39m [\u001b[38;5;124mf\u001b[39m\u001b[38;5;124m\"\u001b[39m\u001b[38;5;124mNUM\u001b[39m\u001b[38;5;132;01m{\u001b[39;00mcol\u001b[38;5;241m.\u001b[39mupper()\u001b[38;5;132;01m}\u001b[39;00m\u001b[38;5;124m\"\u001b[39m \u001b[38;5;28;01mfor\u001b[39;00m col \u001b[38;5;129;01min\u001b[39;00m df\u001b[38;5;241m.\u001b[39mcolumns]\n",
            "\u001b[0;31mModuleNotFoundError\u001b[0m: No module named 'seaborn'"
          ]
        }
      ],
      "source": [
        "import seaborn as sns\n",
        "df= sns.load_dataset(\"car_crashes\")\n",
        "modified_vars= [f\"NUM{col.upper()}\" for col in df.columns]\n",
        "print(modified_vars)"
      ]
    },
    {
      "cell_type": "code",
      "execution_count": 77,
      "id": "2aaf1bd4-1c03-459f-8241-0e4c340807c2",
      "metadata": {
        "trusted": true
      },
      "outputs": [
        {
          "ename": "<class 'OSError'>",
          "evalue": "Not available",
          "output_type": "error",
          "traceback": [
            "\u001b[0;31m---------------------------------------------------------------------------\u001b[0m",
            "\u001b[0;31mOSError\u001b[0m                                   Traceback (most recent call last)",
            "Cell \u001b[0;32mIn[68], line 1\u001b[0m\n\u001b[0;32m----> 1\u001b[0m \u001b[43mget_ipython\u001b[49m\u001b[43m(\u001b[49m\u001b[43m)\u001b[49m\u001b[38;5;241;43m.\u001b[39;49m\u001b[43msystem\u001b[49m\u001b[43m(\u001b[49m\u001b[38;5;124;43m'\u001b[39;49m\u001b[38;5;124;43mpip install seaborn\u001b[39;49m\u001b[38;5;124;43m'\u001b[39;49m\u001b[43m)\u001b[49m\n",
            "File \u001b[0;32m/lib/python3.12/site-packages/IPython/core/interactiveshell.py:2653\u001b[0m, in \u001b[0;36mInteractiveShell.system_piped\u001b[0;34m(self, cmd)\u001b[0m\n\u001b[1;32m   2648\u001b[0m     \u001b[38;5;28;01mraise\u001b[39;00m \u001b[38;5;167;01mOSError\u001b[39;00m(\u001b[38;5;124m\"\u001b[39m\u001b[38;5;124mBackground processes not supported.\u001b[39m\u001b[38;5;124m\"\u001b[39m)\n\u001b[1;32m   2650\u001b[0m \u001b[38;5;66;03m# we explicitly do NOT return the subprocess status code, because\u001b[39;00m\n\u001b[1;32m   2651\u001b[0m \u001b[38;5;66;03m# a non-None value would trigger :func:`sys.displayhook` calls.\u001b[39;00m\n\u001b[1;32m   2652\u001b[0m \u001b[38;5;66;03m# Instead, we store the exit_code in user_ns.\u001b[39;00m\n\u001b[0;32m-> 2653\u001b[0m \u001b[38;5;28mself\u001b[39m\u001b[38;5;241m.\u001b[39muser_ns[\u001b[38;5;124m'\u001b[39m\u001b[38;5;124m_exit_code\u001b[39m\u001b[38;5;124m'\u001b[39m] \u001b[38;5;241m=\u001b[39m \u001b[43msystem\u001b[49m\u001b[43m(\u001b[49m\u001b[38;5;28;43mself\u001b[39;49m\u001b[38;5;241;43m.\u001b[39;49m\u001b[43mvar_expand\u001b[49m\u001b[43m(\u001b[49m\u001b[43mcmd\u001b[49m\u001b[43m,\u001b[49m\u001b[43m \u001b[49m\u001b[43mdepth\u001b[49m\u001b[38;5;241;43m=\u001b[39;49m\u001b[38;5;241;43m1\u001b[39;49m\u001b[43m)\u001b[49m\u001b[43m)\u001b[49m\n",
            "File \u001b[0;32m/lib/python3.12/site-packages/IPython/utils/_process_emscripten.py:11\u001b[0m, in \u001b[0;36msystem\u001b[0;34m(cmd)\u001b[0m\n\u001b[1;32m     10\u001b[0m \u001b[38;5;28;01mdef\u001b[39;00m \u001b[38;5;21msystem\u001b[39m(cmd):\n\u001b[0;32m---> 11\u001b[0m     \u001b[38;5;28;01mraise\u001b[39;00m \u001b[38;5;167;01mOSError\u001b[39;00m(\u001b[38;5;124m\"\u001b[39m\u001b[38;5;124mNot available\u001b[39m\u001b[38;5;124m\"\u001b[39m)\n",
            "\u001b[0;31mOSError\u001b[0m: Not available"
          ]
        }
      ],
      "source": [
        "!pip install seaborn"
      ]
    },
    {
      "cell_type": "code",
      "execution_count": 79,
      "id": "23a3b6bf-9b11-47d1-9585-ca60e29fddac",
      "metadata": {
        "trusted": true
      },
      "outputs": [
        {
          "name": "stdout",
          "output_type": "stream",
          "text": [
            "['NUMCITY', 'NUMPOPULATION', 'NUMAREA']\n"
          ]
        }
      ],
      "source": [
        "import pandas as pd\n",
        "\n",
        "# Örnek veri seti oluştur\n",
        "data = {\n",
        "    'City': ['New York', 'Los Angeles', 'Chicago'],\n",
        "    'Population': [8175133, 3792621, 2695598],\n",
        "    'Area': [468.9, 503, 227.6]\n",
        "}\n",
        "\n",
        "# Veri çerçevesini oluştur\n",
        "df = pd.DataFrame(data)\n",
        "\n",
        "# Tüm değişken isimlerini büyük harfe çevir ve başına 'NUM' ekle\n",
        "modified_vars = [f\"NUM{col.upper()}\" for col in df.columns]\n",
        "\n",
        "# Sonuçları yazdır\n",
        "print(modified_vars)\n"
      ]
    },
    {
      "cell_type": "code",
      "execution_count": 87,
      "id": "3cdd9828-cda4-40f1-bfd0-eacdb9b186c5",
      "metadata": {
        "trusted": true
      },
      "outputs": [
        {
          "name": "stdout",
          "output_type": "stream",
          "text": [
            "['CITYFLAG', 'POPULATIONFLAG', 'AREAFLAG']\n"
          ]
        }
      ],
      "source": [
        "import pandas as pd\n",
        "\n",
        "# Örnek veri seti oluştur\n",
        "data = {\n",
        "    'City': ['New York', 'Los Angeles', 'Chicago'],\n",
        "    'Population': [8175133, 3792621, 2695598],\n",
        "    'Area': [468.9, 503, 227.6],\n",
        "    'No_of_crashes': [500, 300, 200]\n",
        "}\n",
        "\n",
        "# Veri çerçevesini oluştur\n",
        "df = pd.DataFrame(data)\n",
        "\n",
        "# İsminde \"no\" barındırmayan değişken isimlerini belirle ve sonuna \"FLAG\" ekle\n",
        "modified_vars = [f\"{col.upper()}FLAG\" for col in df.columns if \"no\" not in col.lower()]\n",
        "\n",
        "# Sonuçları yazdır\n",
        "print(modified_vars)"
      ]
    },
    {
      "cell_type": "code",
      "execution_count": 88,
      "id": "83fa8a87-1186-45cb-b6fa-b2db0ef91ad8",
      "metadata": {
        "trusted": true
      },
      "outputs": [
        {
          "name": "stdout",
          "output_type": "stream",
          "text": [
            "Farklı olan sütun isimleri: ['age', 'income']\n",
            "Yeni DataFrame:\n",
            "   age  income\n",
            "0   25   50000\n",
            "1   30   60000\n",
            "2   22   55000\n"
          ]
        }
      ],
      "source": [
        "import pandas as pd\n",
        "\n",
        "# Örnek veri çerçevesini oluştur\n",
        "data = {\n",
        "    'abbrev': ['NY', 'LA', 'CHI'],\n",
        "    'no_previous': [0, 1, 0],\n",
        "    'age': [25, 30, 22],\n",
        "    'income': [50000, 60000, 55000]\n",
        "}\n",
        "\n",
        "# Veri çerçevesini oluştur\n",
        "df = pd.DataFrame(data)\n",
        "\n",
        "# Verilen liste\n",
        "og_list = [\"abbrev\", \"no_previous\"]\n",
        "\n",
        "# orijinal veri çerçevesindeki sütun isimleri\n",
        "all_columns = df.columns\n",
        "\n",
        "# Farklı olan sütun isimlerini seç\n",
        "different_columns = [col for col in all_columns if col not in og_list]\n",
        "\n",
        "# Yeni DataFrame oluştur\n",
        "new_df = df[different_columns]\n",
        "\n",
        "# Sonuçları yazdır\n",
        "print(\"Farklı olan sütun isimleri:\", different_columns)\n",
        "print(\"Yeni DataFrame:\")\n",
        "print(new_df)"
      ]
    },
    {
      "cell_type": "code",
      "execution_count": null,
      "id": "7381854d-8468-4b81-9818-7477ae59458b",
      "metadata": {
        "trusted": true
      },
      "outputs": [],
      "source": []
    }
  ],
  "metadata": {
    "kernelspec": {
      "display_name": "Python (Pyodide)",
      "language": "python",
      "name": "python"
    },
    "language_info": {
      "codemirror_mode": {
        "name": "python",
        "version": 3
      },
      "file_extension": ".py",
      "mimetype": "text/x-python",
      "name": "python",
      "nbconvert_exporter": "python",
      "pygments_lexer": "ipython3",
      "version": "3.8"
    }
  },
  "nbformat": 4,
  "nbformat_minor": 5
}
